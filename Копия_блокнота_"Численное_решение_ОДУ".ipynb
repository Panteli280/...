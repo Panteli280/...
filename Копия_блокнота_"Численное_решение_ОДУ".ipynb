{
  "nbformat": 4,
  "nbformat_minor": 0,
  "metadata": {
    "colab": {
      "name": "Копия блокнота \"Численное решение ОДУ\"",
      "provenance": [],
      "collapsed_sections": [],
      "toc_visible": true,
      "include_colab_link": true
    },
    "kernelspec": {
      "name": "python3",
      "display_name": "Python 3"
    },
    "language_info": {
      "name": "python"
    }
  },
  "cells": [
    {
      "cell_type": "markdown",
      "metadata": {
        "id": "view-in-github",
        "colab_type": "text"
      },
      "source": [
        "<a href=\"https://colab.research.google.com/github/Panteli280/.../blob/Panteli280-patch-1/%D0%9A%D0%BE%D0%BF%D0%B8%D1%8F_%D0%B1%D0%BB%D0%BE%D0%BA%D0%BD%D0%BE%D1%82%D0%B0_%22%D0%A7%D0%B8%D1%81%D0%BB%D0%B5%D0%BD%D0%BD%D0%BE%D0%B5_%D1%80%D0%B5%D1%88%D0%B5%D0%BD%D0%B8%D0%B5_%D0%9E%D0%94%D0%A3%22.ipynb\" target=\"_parent\"><img src=\"https://colab.research.google.com/assets/colab-badge.svg\" alt=\"Open In Colab\"/></a>"
      ]
    },
    {
      "cell_type": "markdown",
      "metadata": {
        "id": "jRmHHsYvB7QR"
      },
      "source": [
        "# Численное решение обыкновенных дифференциальных уравнений"
      ]
    },
    {
      "cell_type": "markdown",
      "metadata": {
        "id": "8EDbC1_dC-Go"
      },
      "source": [
        "## Обыкновенные дифференциальные уравнения"
      ]
    },
    {
      "cell_type": "markdown",
      "metadata": {
        "id": "FNPdUMeNDCMq"
      },
      "source": [
        "*Дифференцильные уравнения* - это математический аппарат, используемый для описания поведения динамических систем в различных предметных областях. Динамическая система имеет состояние, описываемое набором переменных и изменяющееся со временем. \n",
        "\n",
        "В качестве неизвестного в дифференциальном уравнении выступает некоторая функция. Кроме того, в дифференциальное уравнение входят производные неизвестной функции, свободная переменная и различные параметры.\n",
        "\n",
        "*Обыкновенное дифференциальное уравнение (ОДУ)* - это дифференциальное уравнение для функции от одной переменной:\n",
        "\n",
        "\\begin{equation}\n",
        "  F(x, y(x), y', y'', \\ldots, y^{(n)}) = 0\n",
        "\\end{equation}\n",
        "\n",
        "Зачастую ОДУ записывают в форме уравнения, разрешённого относительно старшей производной:\n",
        "\n",
        "\\begin{equation}\n",
        "  y^{(n)} = f(x, y(x), y', y'', \\ldots, y^{(n - 1)})\n",
        "\\end{equation}\n",
        "\n",
        "ОДУ 1-го порядка:\n",
        "\n",
        "\\begin{equation}\n",
        "  F(x, y, y') = 0 \\\\\n",
        "  y' = f(x, y)\n",
        "\\end{equation}\n",
        "\n",
        "В общем случае, ОДУ имеет бесконечное множество решений. Для ОДУ 1-го порядка общее решение зависит от одной произвольной постоянной:\n",
        "\n",
        "\\begin{equation}\n",
        "  y = \\phi(x, C)\n",
        "\\end{equation}\n",
        "\n",
        "Если постоянной придать определенное значение $C = C_0$, то получаем частное решение:\n",
        "\n",
        "\\begin{equation}\n",
        "  y = \\phi(x, C_0)\n",
        "\\end{equation}\n",
        "\n",
        "Для нахождения $C_0$ и соответсвенно частного решения ОДУ используются начальные условия:\n",
        "\n",
        "\\begin{equation}\n",
        "  y(x_0) = y_0\n",
        "\\end{equation}\n",
        "\n",
        "ОДУ вместе с начальными условиями образуют задачу Коши:\n",
        "\n",
        "\\begin{equation}\n",
        "  y' = f(x, y), \\quad y(x_0) = y_0\n",
        "\\end{equation}"
      ]
    },
    {
      "cell_type": "markdown",
      "metadata": {
        "id": "tH0BzWB0GRvK"
      },
      "source": [
        "## Метод Эйлера"
      ]
    },
    {
      "cell_type": "markdown",
      "metadata": {
        "id": "5GYt3XvzGVfg"
      },
      "source": [
        "Метод Эйлера (метод конечных разностей) заключается в том, что на области определения функции $y(x)$ вводится равномерная сетка с шагом $h$:\n",
        "\n",
        "\\begin{equation}\n",
        "  x_i = x_0 + i h\n",
        "\\end{equation}\n",
        "\n",
        "По определению производной:\n",
        "\n",
        "\\begin{equation}\n",
        "  y'(x_i) = \\frac{dy}{dx} = \\lim_{\\Delta x \\rightarrow 0}\\frac{y(x_i + \\Delta x)-y(x_i)}{\\Delta x} \\approx \\frac{y(x_i + h)-y(x_i)}{h} = \\frac{y_{i+1}-y_i}{h}\n",
        "\\end{equation}\n",
        "\n",
        "По условию задачи Коши:\n",
        "\\begin{equation}\n",
        "  y'(x_i) = f(x_i, y_i) = f_i\n",
        "\\end{equation}\n",
        "\n",
        "Тогда:\n",
        "\n",
        "\\begin{equation}\n",
        "  \\frac{y_{i+1}-y_i}{h} = f_i\n",
        "\\end{equation}\n",
        "\n",
        "Отсюда получаем формулу *явного метода Эйлера*:\n",
        "\n",
        "\\begin{equation}\n",
        "  y_{i+1} = y_i + h f_i\n",
        "\\end{equation}\n",
        "\n",
        "Используя другие приближения для производной функции получаем:\n",
        "* *неявный метод Эйлера (левые разности)*:\n",
        "\n",
        "\\begin{equation}\n",
        "  \\frac{y_{i}-y_{i-1}}{h} = f_i\n",
        "\\end{equation}\n",
        "\n",
        "* *центральные разности*:\n",
        "\n",
        "\\begin{equation}\n",
        "  \\frac{y_{i+1}-y_{i-1}}{h} = f_i, \\quad i = 1,2,\\dots,n-1 \\\\\n",
        "  y_1 = y_0 + h f_0\n",
        "\\end{equation}"
      ]
    },
    {
      "cell_type": "code",
      "metadata": {
        "id": "74T7UY4M-22N"
      },
      "source": [
        "import numpy as np\n",
        "\n",
        "def df(x, y):\n",
        "    \"\"\"\n",
        "    2 <= x <= 3\n",
        "    y(2) = 4\n",
        "    h = 0.1\n",
        "    y' = (2xy - y^2) / x^2\n",
        "    :return:\n",
        "    \"\"\"\n",
        "    return (2 * x * y - (y * y)) / (x * x)\n",
        "    pass\n",
        "\n",
        "x0 = 2  \n",
        "\n",
        "xn = 3\n",
        "\n",
        "y0 = 4\n",
        "\n",
        "h = 0.1"
      ],
      "execution_count": null,
      "outputs": []
    },
    {
      "cell_type": "code",
      "metadata": {
        "id": "5rVkHsmfB4Az"
      },
      "source": [
        "def euler(f, x_0, x_n, y_0, h):\n",
        "    x_h = x_0 + h\n",
        "    l_size = int((x_n - x_0) / h)\n",
        "    x_list = np.linspace(x_0, x_n, l_size + 1)\n",
        "    y_list = np.zeros(l_size + 1)\n",
        "    y_list[0] = y_0\n",
        "\n",
        "    for i in range(1, len(y_list)):\n",
        "        y_list[i] = y_list[i - 1] + h * f(x_list[i - 1], y_list[i - 1])\n",
        "        x_h += h\n",
        "\n",
        "    return x_list, y_list\n",
        "    pass"
      ],
      "execution_count": null,
      "outputs": []
    },
    {
      "cell_type": "markdown",
      "metadata": {
        "id": "eU5fOKwTqgUf"
      },
      "source": [
        "Проверьте работу метода Эйлера для функции из варианта"
      ]
    },
    {
      "cell_type": "code",
      "metadata": {
        "id": "yReklEuWq3cJ",
        "colab": {
          "base_uri": "https://localhost:8080/"
        },
        "outputId": "60a41e63-b3ff-4336-8a3d-02da196c0be0"
      },
      "source": [
        "x_euler, y_euler = euler(df, x0, xn, y0, h)\n",
        "x_euler, y_euler"
      ],
      "execution_count": null,
      "outputs": [
        {
          "output_type": "execute_result",
          "data": {
            "text/plain": [
              "(array([2. , 2.1, 2.2, 2.3, 2.4, 2.5, 2.6, 2.7, 2.8, 2.9, 3. ]),\n",
              " array([4.        , 4.        , 4.01814059, 4.04984234, 4.09196052,\n",
              "        4.14226034, 4.19910804, 4.26128043, 4.32784289, 4.3980686 ,\n",
              "        4.47138359]))"
            ]
          },
          "metadata": {
            "tags": []
          },
          "execution_count": 6
        }
      ]
    },
    {
      "cell_type": "markdown",
      "metadata": {
        "id": "VJek93DKq-3A"
      },
      "source": [
        "## Методы Рунге-Кутта"
      ]
    },
    {
      "cell_type": "markdown",
      "metadata": {
        "id": "BzYZDq7hrFW7"
      },
      "source": [
        "Суть методов - функция $y(x)$ раскладывается в ряд Тейлора в точке $x_i$ и в качестве приближенного значения используются первые $n$ слагаемых ряда. $n$ - порядок метода Рунге-Кутта.\n",
        "\n",
        "Можно показать, что метод Эйлера является методом из семества Рунге-Кутта 2 порядка.\n",
        "\n",
        "Другие модификации метода Эйлера, являющиеся методами Рунге-Кутта 2 порядка:\n",
        "* *модифицированный метод Эйлера*:\n",
        "\\begin{equation}\n",
        "  \\frac{y_{i+1}-y_{i}}{h} = f(x_i + \\frac{h}{2}, y_i + \\frac{h}{2}  f_i)\n",
        "\\end{equation}\n",
        "* *метод Эйлера с пересчетом*:\n",
        "\\begin{equation}\n",
        "  \\frac{y_{i+1}-y_{i}}{h} = \\frac{1}{2}(f_i + f(x_{i + 1}, y_i +  h f_i))\n",
        "\\end{equation}\n",
        "\n",
        "На практике распространен *метод Рунге-Кутта четвертого порядка*:\n",
        "\n",
        "\\begin{equation}\n",
        "  y_{i + 1} = y_i = \\frac{h}{6}(k_0 + 2 k_1 + 2 k_2 + k_3), i = 0,1,\\dots \\\\\n",
        "  k_0 = f_i \\\\ \n",
        "  k_1 = f(x_i + \\frac{h}{2}, y_i + \\frac{h}{2} k_0) \\\\\n",
        "  k_2 = f(x_i + \\frac{h}{2}, y_i + \\frac{h}{2} k_1) \\\\\n",
        "  k_3 = f(x_i + h, y_i + h k_2)\n",
        "\\end{equation}\n"
      ]
    },
    {
      "cell_type": "code",
      "metadata": {
        "id": "TU7DJJvtHnTs"
      },
      "source": [
        "def euler_mod(f, x_0, x_n, y_0, h):\n",
        "    x_h = x_0 + h\n",
        "    l_size = int((x_n - x_0) / h)\n",
        "    x_list = np.linspace(x_0, x_n, l_size + 1)\n",
        "    y_list = np.zeros(l_size + 1)\n",
        "    y_list[0] = y_0\n",
        "\n",
        "    for i in range(1, len(y_list)):\n",
        "        p = f(x_list[i - 1] + h/2, y_list[i - 1] + (h * f(x_list[i], y_list[i]))/2)\n",
        "        y_list[i] = h * p + y_list[i - 1]\n",
        "\n",
        "    return x_list, y_list\n",
        "    pass"
      ],
      "execution_count": null,
      "outputs": []
    },
    {
      "cell_type": "code",
      "metadata": {
        "id": "XcLL3jDNHtrc"
      },
      "source": [
        "def euler_recount(f, x_0, x_n, y_0, h):\n",
        "    x_h = x_0 + h\n",
        "    l_size = int((x_n - x_0) / h)\n",
        "    x_list = np.linspace(x_0, x_n, l_size + 1)\n",
        "    y_list = np.zeros(l_size + 1)\n",
        "    y_list[0] = y_0\n",
        "\n",
        "    for i in range(1, len(y_list)):\n",
        "        fi = f(x_list[i - 1], y_list[i - 1])\n",
        "        q = f(x_list[i], y_list[i - 1] + h * fi)\n",
        "        y_list[i] = 0.5 * (fi + q) * h + y_list[i - 1]\n",
        "\n",
        "    return x_list, y_list\n",
        "    pass"
      ],
      "execution_count": null,
      "outputs": []
    },
    {
      "cell_type": "code",
      "metadata": {
        "id": "ISNTTYd_IJ8G"
      },
      "source": [
        "def rk4(f, x_0, x_n, y_0, h):\n",
        "    x_h = x_0 + h\n",
        "    l_size = int((x_n - x_0) / h)\n",
        "    x_list = np.linspace(x_0, x_n, l_size + 1)\n",
        "    y_list = np.zeros(l_size + 1)\n",
        "    y_list[0] = y_0\n",
        "\n",
        "    for i in range(1, len(y_list)):\n",
        "        k0 = f(x_list[i], y_list[i])\n",
        "        k1 = f(x_list[i - 1] + h/2, y_list[i - 1] + (h/2) * k0)\n",
        "        k2 = f(x_list[i - 1] + h/2, y_list[i - 1] + (h/2) * k1)\n",
        "        k3 = f(x_list[i - 1] + h, y_list[i - 1] + h * k2)\n",
        "        y_list[i] = (h/6) * (k0 + 2*k1 + 2*k2 + k3) + y_list[i - 1]\n",
        "\n",
        "    return x_list, y_list"
      ],
      "execution_count": null,
      "outputs": []
    },
    {
      "cell_type": "markdown",
      "metadata": {
        "id": "W7SB8bvcIPNq"
      },
      "source": [
        "Постройте интегральные кривые для функции из варианта, выполнив вычисления с помощью метода Эйлера, модифицированного метода Эйлера, метода Эйлера с пересчетом и метода Рунге-Кутта 4 порядка. Сравните результаты работы этих методов"
      ]
    },
    {
      "cell_type": "code",
      "metadata": {
        "id": "2Js1NLuTIk0R",
        "colab": {
          "base_uri": "https://localhost:8080/",
          "height": 264
        },
        "outputId": "793ec5d6-5749-4f17-be57-fdb5f1709ef3"
      },
      "source": [
        "import matplotlib.pyplot as plt\n",
        "\n",
        "x_euler, y_euler = euler(df, x0, xn, y0, h)\n",
        "x_mod, y_mod = euler_mod(df, x0, xn, y0, h)\n",
        "x_recount, y_recount = euler_recount(df, x0, xn, y0, h)\n",
        "x_rk4, y_rk4 = rk4(df, x0, xn, y0, h)\n",
        "\n",
        "plt.plot(x_euler, y_euler, label='Метод Эйлера')\n",
        "plt.plot(x_mod, y_mod, label='Модифицированный метод Эйлера')\n",
        "plt.plot(x_recount, y_recount, label='Метод Эйлера с перерасчетом')\n",
        "plt.plot(x_rk4, y_rk4, label='Метод Рунге-Кутта')\n",
        "plt.legend()\n",
        "plt.show()"
      ],
      "execution_count": null,
      "outputs": [
        {
          "output_type": "display_data",
          "data": {
            "image/png": "[encoded data removed]",
            "text/plain": [
              "<Figure size 432x288 with 1 Axes>"
            ]
          },
          "metadata": {
            "tags": [],
            "needs_background": "light"
          }
        }
      ]
    }
  ]
}